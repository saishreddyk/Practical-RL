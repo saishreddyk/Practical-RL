{
  "nbformat": 4,
  "nbformat_minor": 0,
  "metadata": {
    "colab": {
      "name": "Rendering_OpenAi_Gym_in_Colaboratory.ipynb",
      "provenance": [],
      "collapsed_sections": [
        "sZn9Jj1oLEka"
      ],
      "include_colab_link": true
    },
    "kernelspec": {
      "name": "python3",
      "display_name": "Python 3"
    },
    "accelerator": "GPU"
  },
  "cells": [
    {
      "cell_type": "markdown",
      "metadata": {
        "id": "view-in-github",
        "colab_type": "text"
      },
      "source": [
        "<a href=\"https://colab.research.google.com/github/saishreddyk/Practical-RL/blob/main/Rendering_OpenAi_Gym_in_Colaboratory.ipynb\" target=\"_parent\"><img src=\"https://colab.research.google.com/assets/colab-badge.svg\" alt=\"Open In Colab\"/></a>"
      ]
    },
    {
      "cell_type": "markdown",
      "source": [
        "# What happens in the below cell\n",
        "  - Install original gym dependencies\n",
        "  - Install extra other atari games dependencies\n",
        "  - Import and helper functions\n",
        "  - Utility functions `show_video() and wrap_env()`\n",
        "### Usage\n",
        "  ```\n",
        "  env = wrap_env(gym.make(\"MsPacman-v0\"))\n",
        "  show_video()\n",
        "  ```\n"
      ],
      "metadata": {
        "id": "sZn9Jj1oLEka"
      }
    },
    {
      "cell_type": "code",
      "source": [
        "#@title RUN THIS\n",
        "#remove \" > /dev/null 2>&1\" to see what is going on under the hood\n",
        "\n",
        "print(\"installing gym\")\n",
        "!pip install 'gym[all]' pyvirtualdisplay > /dev/null 2>&1\n",
        "!apt-get install -y xvfb python-opengl ffmpeg > /dev/null 2>&1\n",
        "print(\"gym install successfully\")\n",
        "print(\"installing atari dependencies\")\n",
        "!apt-get update > /dev/null 2>&1\n",
        "!apt-get install cmake > /dev/null 2>&1\n",
        "!pip install --upgrade setuptools 2>&1\n",
        "!pip install ez_setup > /dev/null 2>&1\n",
        "!pip install gym[atari] > /dev/null 2>&1\n",
        "print(\"Atari games dependencies installed successfully\")\n",
        "print(\"Importing necessary modules\")\n",
        "import gym\n",
        "from gym import logger as gymlogger\n",
        "from gym.wrappers import Monitor\n",
        "gymlogger.set_level(40) #error only\n",
        "import tensorflow as tf\n",
        "import numpy as np\n",
        "import random\n",
        "import matplotlib\n",
        "import matplotlib.pyplot as plt\n",
        "%matplotlib inline\n",
        "import math\n",
        "import glob\n",
        "import io\n",
        "import base64\n",
        "from IPython.display import HTML\n",
        "\n",
        "from IPython import display as ipythondisplay\n",
        "from pyvirtualdisplay import Display\n",
        "display = Display(visible=0, size=(1400, 900))\n",
        "display.start()\n",
        "print(\"\"\"\n",
        "Utility functions to enable video recording of gym environment and displaying it\n",
        "To enable video, just do \"env = wrap_env(env)\n",
        "\"\"\"\n",
        ")\n",
        "def show_video():\n",
        "  mp4list = glob.glob('video/*.mp4')\n",
        "  if len(mp4list) > 0:\n",
        "    mp4 = mp4list[0]\n",
        "    video = io.open(mp4, 'r+b').read()\n",
        "    encoded = base64.b64encode(video)\n",
        "    ipythondisplay.display(HTML(data='''<video alt=\"test\" autoplay \n",
        "                loop controls style=\"height: 400px;\">\n",
        "                <source src=\"data:video/mp4;base64,{0}\" type=\"video/mp4\" />\n",
        "             </video>'''.format(encoded.decode('ascii'))))\n",
        "  else: \n",
        "    print(\"Could not find video\")\n",
        "    \n",
        "\n",
        "def wrap_env(env):\n",
        "  env = Monitor(env, './video', force=True)\n",
        "  return env"
      ],
      "metadata": {
        "id": "YqD12FqjMn5x"
      },
      "execution_count": null,
      "outputs": []
    },
    {
      "cell_type": "code",
      "source": [
        "import gym\n",
        "import numpy as np\n",
        "\n",
        "# Load Environment and structure of Q-table\n",
        "env = wrap_env(gym.make('FrozenLake8x8-v0'))\n",
        "Q = np.zeros([env.observation_space.n, env.action_space.n]) # .n gives no of states and actions\n",
        "print(Q.shape)"
      ],
      "metadata": {
        "id": "u9jnPv9TosY-"
      },
      "execution_count": null,
      "outputs": []
    },
    {
      "cell_type": "code",
      "source": [
        "# Defining hyperparameters of Q-Learning\n",
        "lr = 0.628  # learning rate (alpha)\n",
        "gamma = 0.9 # discount factor\n",
        "epochs = 5000 # also episodes\n",
        "rev_list = [] # reward storage"
      ],
      "metadata": {
        "id": "cUtXJRZBo4Qh"
      },
      "execution_count": null,
      "outputs": []
    },
    {
      "cell_type": "code",
      "source": [
        "from time import sleep\n",
        "for i in range(epochs):\n",
        "    print(\"Running episode {}\".format(i))\n",
        "    # sleep(1)\n",
        "    s = env.reset() # first, we gotta reset the environment\n",
        "    rAll = 0\n",
        "    j = 0\n",
        "    d = False\n",
        "    while True:\n",
        "      j+=1\n",
        "      print(\"Running {} iteration of {} episode\".format(j, i))\n",
        "      env.render()\n",
        "      # choose a max action from Q table\n",
        "      a = np.argmax(Q[s,:] + np.random.randn(1, env.action_space.n)*(1./(i+1)))\n",
        "      # get new state and reward from environment\n",
        "      s1, r, d, _  = env.step(a) # returns observation, reward, if_done?, dict(for info)\n",
        "      # now update q table\n",
        "      Q[s, a] = Q[s, a] + lr*(r + gamma*np.argmax(Q[s1,:]) - Q[s, a])\n",
        "      rAll += r\n",
        "      s = s1\n",
        "      if d == True:\n",
        "          break\n",
        "    rev_list.append(rAll)\n",
        "    env.render()\n",
        "\n",
        "print(\"Reward sum on all episodes \"+ str(sum(rev_list)/epochs))\n",
        "print(\"Final Values of Q-Table\")\n",
        "print(Q)\n"
      ],
      "metadata": {
        "id": "uQxdq1oro6RI"
      },
      "execution_count": null,
      "outputs": []
    },
    {
      "cell_type": "code",
      "source": [
        "show_video()"
      ],
      "metadata": {
        "id": "EXbEQxeDpJnR"
      },
      "execution_count": null,
      "outputs": []
    },
    {
      "cell_type": "code",
      "source": [
        "!pwd"
      ],
      "metadata": {
        "id": "LGqJAWnDcur1",
        "outputId": "d4effe10-953a-4e8d-82de-6d4619858133",
        "colab": {
          "base_uri": "https://localhost:8080/"
        }
      },
      "execution_count": 4,
      "outputs": [
        {
          "output_type": "stream",
          "name": "stdout",
          "text": [
            "/content\n"
          ]
        }
      ]
    }
  ]
}