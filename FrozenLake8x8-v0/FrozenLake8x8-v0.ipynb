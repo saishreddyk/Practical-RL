{
  "nbformat": 4,
  "nbformat_minor": 0,
  "metadata": {
    "colab": {
      "name": "Rendering_OpenAi_Gym_in_Colaboratory.ipynb",
      "provenance": [],
      "private_outputs": true,
      "collapsed_sections": [
        "sZn9Jj1oLEka"
      ]
    },
    "kernelspec": {
      "name": "python3",
      "display_name": "Python 3"
    },
    "accelerator": "GPU"
  },
  "cells": [
    {
      "cell_type": "markdown",
      "source": [
        "# What happens in the below cell\n",
        "  - Install original gym dependencies\n",
        "  - Install extra other atari games dependencies\n",
        "  - Import and helper functions\n",
        "  - Utility functions `show_video() and wrap_env()`\n",
        "### Usage\n",
        "  ```\n",
        "  env = wrap_env(gym.make(\"MsPacman-v0\"))\n",
        "  show_video()\n",
        "  ```\n"
      ],
      "metadata": {
        "id": "sZn9Jj1oLEka"
      }
    },
    {
      "cell_type": "code",
      "source": [
        "#@title RUN THIS\n",
        "#remove \" > /dev/null 2>&1\" to see what is going on under the hood\n",
        "\n",
        "print(\"installing gym\")\n",
        "!pip install gym pyvirtualdisplay > /dev/null 2>&1\n",
        "!apt-get install -y xvfb python-opengl ffmpeg > /dev/null 2>&1\n",
        "print(\"gym install successfully\")\n",
        "print(\"installing atari dependencies\")\n",
        "!apt-get update > /dev/null 2>&1\n",
        "!apt-get install cmake > /dev/null 2>&1\n",
        "!pip install --upgrade setuptools 2>&1\n",
        "!pip install ez_setup > /dev/null 2>&1\n",
        "!pip install gym[atari] > /dev/null 2>&1\n",
        "print(\"Atari games dependencies installed successfully\")\n",
        "print(\"Importing necessary modules\")\n",
        "import gym\n",
        "from gym import logger as gymlogger\n",
        "from gym.wrappers import Monitor\n",
        "gymlogger.set_level(40) #error only\n",
        "import tensorflow as tf\n",
        "import numpy as np\n",
        "import random\n",
        "import matplotlib\n",
        "import matplotlib.pyplot as plt\n",
        "%matplotlib inline\n",
        "import math\n",
        "import glob\n",
        "import io\n",
        "import base64\n",
        "from IPython.display import HTML\n",
        "\n",
        "from IPython import display as ipythondisplay\n",
        "from pyvirtualdisplay import Display\n",
        "display = Display(visible=0, size=(1400, 900))\n",
        "display.start()\n",
        "print(\"\"\"\n",
        "Utility functions to enable video recording of gym environment and displaying it\n",
        "To enable video, just do \"env = wrap_env(env)\n",
        "\"\"\"\n",
        ")\n",
        "def show_video():\n",
        "  mp4list = glob.glob('video/*.mp4')\n",
        "  if len(mp4list) > 0:\n",
        "    mp4 = mp4list[0]\n",
        "    video = io.open(mp4, 'r+b').read()\n",
        "    encoded = base64.b64encode(video)\n",
        "    ipythondisplay.display(HTML(data='''<video alt=\"test\" autoplay \n",
        "                loop controls style=\"height: 400px;\">\n",
        "                <source src=\"data:video/mp4;base64,{0}\" type=\"video/mp4\" />\n",
        "             </video>'''.format(encoded.decode('ascii'))))\n",
        "  else: \n",
        "    print(\"Could not find video\")\n",
        "    \n",
        "\n",
        "def wrap_env(env):\n",
        "  env = Monitor(env, './video', force=True)\n",
        "  return env"
      ],
      "metadata": {
        "cellView": "form",
        "id": "YqD12FqjMn5x"
      },
      "execution_count": null,
      "outputs": []
    }
  ]
}